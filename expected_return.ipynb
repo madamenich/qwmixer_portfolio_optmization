{
 "cells": [
  {
   "cell_type": "code",
   "execution_count": 2,
   "metadata": {
    "ExecuteTime": {
     "end_time": "2023-10-30T23:51:36.662794Z",
     "start_time": "2023-10-30T23:51:36.657011Z"
    }
   },
   "outputs": [],
   "source": [
    "import mv"
   ]
  },
  {
   "cell_type": "markdown",
   "metadata": {
    "collapsed": false
   },
   "source": []
  },
  {
   "cell_type": "markdown",
   "metadata": {},
   "source": [
    "## 2 Assets\n"
   ]
  },
  {
   "cell_type": "code",
   "execution_count": 3,
   "metadata": {
    "ExecuteTime": {
     "end_time": "2023-10-30T23:51:38.416315Z",
     "start_time": "2023-10-30T23:51:37.736904Z"
    }
   },
   "outputs": [
    {
     "name": "stdout",
     "output_type": "stream",
     "text": [
      "[*********************100%%**********************]  2 of 2 completed\n",
      "AAPL    0.269306\n",
      "MSFT    0.248814\n",
      "Name: mkt, dtype: float64\n"
     ]
    }
   ],
   "source": [
    "stocks = [\"MSFT\", \"AAPL\"]\n",
    "start_date = \"2018-01-01\"\n",
    "end_date = \"2023-01-01\"\n",
    "\n",
    "mvo = mv.MeanVarianceOptimization(stocks, start_date, end_date)\n",
    "er = mvo.expected_returns()\n",
    "\n",
    "print(er)"
   ]
  },
  {
   "cell_type": "markdown",
   "metadata": {},
   "source": [
    "## 3 Assets"
   ]
  },
  {
   "cell_type": "code",
   "execution_count": 4,
   "metadata": {
    "ExecuteTime": {
     "end_time": "2023-10-30T23:51:41.522643Z",
     "start_time": "2023-10-30T23:51:40.537710Z"
    }
   },
   "outputs": [
    {
     "name": "stdout",
     "output_type": "stream",
     "text": [
      "[*********************100%%**********************]  3 of 3 completed\n",
      "AAPL    0.231512\n",
      "MSFT    0.220853\n",
      "NVDA    0.363828\n",
      "Name: mkt, dtype: float64\n"
     ]
    }
   ],
   "source": [
    "stocks = [\"MSFT\", \"AAPL\", \"NVDA\"]\n",
    "start_date = \"2018-01-01\"\n",
    "end_date = \"2023-01-01\"\n",
    "\n",
    "mvo = mv.MeanVarianceOptimization(stocks, start_date, end_date)\n",
    "er = mvo.expected_returns()\n",
    "\n",
    "print(er)"
   ]
  },
  {
   "cell_type": "markdown",
   "metadata": {},
   "source": [
    "## 4 Assets"
   ]
  },
  {
   "cell_type": "code",
   "execution_count": 5,
   "metadata": {
    "ExecuteTime": {
     "end_time": "2023-10-30T23:51:42.295761Z",
     "start_time": "2023-10-30T23:51:41.524043Z"
    }
   },
   "outputs": [
    {
     "name": "stdout",
     "output_type": "stream",
     "text": [
      "[*********************100%%**********************]  4 of 4 completed\n",
      "AAPL     0.208922\n",
      "GOOGL    0.198492\n",
      "MSFT     0.203773\n",
      "NVDA     0.322059\n",
      "Name: mkt, dtype: float64\n"
     ]
    }
   ],
   "source": [
    "stocks = [\"MSFT\", \"AAPL\", \"GOOGL\", \"NVDA\"]\n",
    "start_date = \"2018-01-01\"\n",
    "end_date = \"2023-01-01\"\n",
    "\n",
    "mvo = mv.MeanVarianceOptimization(stocks, start_date, end_date)\n",
    "er = mvo.expected_returns()\n",
    "\n",
    "print(er)"
   ]
  },
  {
   "cell_type": "markdown",
   "metadata": {},
   "source": [
    "## 5 Assets"
   ]
  },
  {
   "cell_type": "code",
   "execution_count": 6,
   "metadata": {
    "ExecuteTime": {
     "end_time": "2023-10-30T23:51:43.115074Z",
     "start_time": "2023-10-30T23:51:42.285736Z"
    }
   },
   "outputs": [
    {
     "name": "stdout",
     "output_type": "stream",
     "text": [
      "[*********************100%%**********************]  5 of 5 completed\n",
      "AAPL     0.185895\n",
      "AMZN     0.194126\n",
      "GOOGL    0.177782\n",
      "MSFT     0.182612\n",
      "NVDA     0.283484\n",
      "Name: mkt, dtype: float64\n"
     ]
    }
   ],
   "source": [
    "stocks = [\"MSFT\", \"AAPL\", \"GOOGL\", \"AMZN\", \"NVDA\"]\n",
    "start_date = \"2018-01-01\"\n",
    "end_date = \"2023-01-01\"\n",
    "\n",
    "mvo = mv.MeanVarianceOptimization(stocks, start_date, end_date)\n",
    "er = mvo.expected_returns()\n",
    "\n",
    "print(er)"
   ]
  },
  {
   "cell_type": "markdown",
   "metadata": {},
   "source": [
    "## 6 Assets"
   ]
  },
  {
   "cell_type": "code",
   "execution_count": 7,
   "metadata": {
    "ExecuteTime": {
     "end_time": "2023-10-30T23:51:43.800865Z",
     "start_time": "2023-10-30T23:51:43.116459Z"
    }
   },
   "outputs": [
    {
     "name": "stdout",
     "output_type": "stream",
     "text": [
      "[*********************100%%**********************]  6 of 6 completed\n",
      "AAPL     0.222647\n",
      "AMZN     0.230750\n",
      "GOOGL    0.208165\n",
      "MSFT     0.216315\n",
      "NVDA     0.342089\n",
      "TSLA     0.371614\n",
      "Name: mkt, dtype: float64\n"
     ]
    }
   ],
   "source": [
    "stocks = [\"MSFT\", \"AAPL\", \"GOOGL\", \"AMZN\", \"NVDA\", \"TSLA\"]\n",
    "start_date = \"2018-01-01\"\n",
    "end_date = \"2023-01-01\"\n",
    "\n",
    "mvo = mv.MeanVarianceOptimization(stocks, start_date, end_date)\n",
    "er = mvo.expected_returns()\n",
    "\n",
    "print(er)"
   ]
  },
  {
   "cell_type": "code",
   "execution_count": null,
   "metadata": {
    "ExecuteTime": {
     "end_time": "2023-10-30T23:51:43.804805Z",
     "start_time": "2023-10-30T23:51:43.800662Z"
    }
   },
   "outputs": [],
   "source": []
  },
  {
   "cell_type": "code",
   "execution_count": null,
   "metadata": {
    "ExecuteTime": {
     "end_time": "2023-10-30T23:51:43.808123Z",
     "start_time": "2023-10-30T23:51:43.803866Z"
    },
    "collapsed": false
   },
   "outputs": [],
   "source": []
  },
  {
   "cell_type": "code",
   "execution_count": null,
   "metadata": {
    "ExecuteTime": {
     "end_time": "2023-10-30T23:51:43.811006Z",
     "start_time": "2023-10-30T23:51:43.806305Z"
    },
    "collapsed": false
   },
   "outputs": [],
   "source": []
  },
  {
   "cell_type": "code",
   "execution_count": null,
   "metadata": {
    "ExecuteTime": {
     "end_time": "2023-10-30T23:51:43.813580Z",
     "start_time": "2023-10-30T23:51:43.809529Z"
    },
    "collapsed": false
   },
   "outputs": [],
   "source": []
  },
  {
   "cell_type": "code",
   "execution_count": null,
   "metadata": {
    "collapsed": false
   },
   "outputs": [],
   "source": []
  }
 ],
 "metadata": {
  "kernelspec": {
   "display_name": "evks",
   "language": "python",
   "name": "python3"
  },
  "language_info": {
   "codemirror_mode": {
    "name": "ipython",
    "version": 3
   },
   "file_extension": ".py",
   "mimetype": "text/x-python",
   "name": "python",
   "nbconvert_exporter": "python",
   "pygments_lexer": "ipython3",
   "version": "3.9.6"
  }
 },
 "nbformat": 4,
 "nbformat_minor": 2
}
